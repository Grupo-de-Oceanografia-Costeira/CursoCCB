{
 "cells": [
  {
   "cell_type": "markdown",
   "metadata": {},
   "source": [
    "## Computação científica para biólogos\n",
    "\n",
    "### Sumário\n",
    "\n",
    "[**Introdução: o porquê deste curso**](./Introdução.html/)\n",
    "\n",
    "I.1 Apresentação  \n",
    "I.2 Informática cada vez mais necessária  \n",
    "I.3 As ferramentas\n",
    "\n",
    "[**Módulo 1: Ferramentas básicas**](./Módulo 1.html)\n",
    "\n",
    "1.1 - Linha de comando: Terminal  \n",
    "1.2 - Editor de texto e IDE: Atom\t\n",
    "1.3 - Linguagem de Programação: Python\n",
    "\n",
    "[**Módulo 2: Bibliotecas e ambientes virtuais**](./Módulo 2.html)\n",
    "\n",
    "2.1 - Conda: Ambientes virtuais e instalação de dependências  \n",
    "2.2 - Bibliotecas essenciais: Pandas, Matplotlib e Jupyter  \n",
    "2.3 - Analisando o conjunto Iris no Jupyter Notebook  \n",
    "\n",
    "[**Módulo 3: Colaboração e boas práticas**](./Módulo 3.html)\n",
    "\n",
    "3.1 - Boas práticas em computação científica  \n",
    "3.2 - Documentação e controle de versão: Git e GitHub  \n",
    "3.3 - Como aprender programação: dicas para biólogos\n",
    "\n",
    "-\n",
    "\n",
    "## Módulo 3:\n",
    "\n",
    "### 3.1 - Boas práticas em computação científica\n",
    " \n",
    "Nos Módulos 1 e 2 já fomos introduzidos à uma variedade de ferramentas que serão essenciais no nosso caminho da informática. Conseguimos fazer análise e visualização do conjunto de dados \"Iris\" usando comandos Python, no nosso Jupyter Notebook ou na nossa interface Atom + Terminal. Vimos diversos recursos para aprender a linguagem, como baixar e instalar bibliotecas e como organiza-las em ambientes virtuais; para integrar todos esses conhecimentos, temos que nos concentrar em adotar **boas práticas de computação científica**.\n",
    "\n",
    "Através de suas experiências com os workshops da *Software Carpentry*, Greg Wilson e colegas [[1]](./papers/Wilson et al 2017 Good enough practices scientific computing.pdf) destacaram a carência dessas práticas e elaboraram um sumário de regras gerais que cientistas podem e devem considerar adotar. O título do paper, \"Práticas boas o suficiente em computação científica\" (adaptado) já faz alusão ao fato de que o exercício de tais práticas não deve ser algo cansativo e perfeccionista, mas sim princípios básicos no qual devemos nos apoiar na hora de trabalhar no computador, **da mesma forma que fazemos na bancada**. \n",
    "\n",
    "Isso significa que *workflows* computacionais devem seguir as mesmas práticas que outros projetos de laboratório, incluindo dados organizados, passos documentos e uma estruturação do projeto voltada à *reprodutibilidade*. Se usamos métodos computacionais para manipular nossos dados, eles devem ser descritos na literatura; A regra geral é sempre citar os softwares que foram utilizados, especialmente se há um paper descrevendo a ferramenta. No entanto, assim como um protocolo de laboratório, o processamento de dados pode variar dependendo de como a ferramenta computacional é utilizada. Imagine um ensaio enzimático: a concentração de determinado reagente pode influenciar o resultado final, certo? O mesmo acontece com ferramentas de informática: A configuração de determinados parâmetros em um software pode alterar a saída de dados, e consequentemente a informação a ser interpretada. Portanto, não basta citar apenas o método utilizado, e também **como** foi utilizado.\n",
    "\n",
    "O paper de Wilson et al., fornece um guia detalhado, porém simples, de como essas práticas proporcionam um \"controle de qualidade\" no processo de pesquisa, visando facilitar a execução pelo próprio usuário e também garantindo sua reprodutibilidade para terceiros. Hoje em dia, é muito fácil se perder na montanha de dados e análises de qualquer projeto, por mais singelo que seja, logo fica a dica da leitura para qualquer pesquisador no século XXI. Suas recomendações se dividem nos seguintes tópicos:\n",
    "\n",
    "* **Gerenciamento de dados *(data management)*:** salvar ambos dados originais (\"*raw*\") e intermediários, documentar todos os passos, criar dados limpos compatíveis com a análise.\n",
    "* ***Software:*** escrever, organizar e compartilhar *scripts* e programas usados em uma análise.\n",
    "* **Colaboração:** facilitar para que colaboradores existentes e novos como entender e contribuir para um projeto.\n",
    "* **Organização de projeto:** organizar os artefatos digitais de um projeto de forma a facilitar sua descoberta e entendimento.\n",
    "* **Monitoramento de mudanças:** registrar como os diversos componentes de seu projeto mudam ao longo do tempo.\n",
    "\n",
    "(adaptação livre do artigo)\n",
    "\n",
    "### 3.2 - Documentação e controle de versão: Git e GitHub.\n",
    "\n",
    "Como já foi discutido, para garantir o rigor científico de uma análise, é necessário documentar todos os passos. Assim como na ciência precisamos descrever nossa metodologia, quando estamos programando precisamos documentar nosso código. O que isso significa é que devemos explicar como nosso programa funciona, o que cada linha de código faz e como utilizar funções. Fazemos isso através de **comentários.**\n",
    "\n",
    "Nos Jupyter Notebooks deste curso já vimos comentários. São linhas de código precedidas de algum caracter (em Python, `#` ou texto entre os caracteres `'''` ou `\" \" \"`).\n",
    "\n",
    "Imagina se formos ter que usar aquele mesmo código daqui a 6 meses? Será que a gente vai entender o que cada coisa faz? Por isso é importante adicionar comentários à medida que um arquivo de código vai acumulando linhas. Quando escrevemos programas mais complexos, a documentação não se refere somente aos comentários, mas a um conjunto de documentos que vão auxiliar usuários e desenvolvedores daquele programa. Arquivos como \"README.txt\", \"requirements.txt\" ou \"LICENSE.txt\" são exemplos de documentos. Documentação é um aspecto fundamental para a prática de programação, no entanto no momento podemos nos contentar com adicionar comentários úteis em nossos humildes scripts.\n",
    "\n",
    "Uma análise realizada através de código pode ser documentada da mesma forma que um programa que já foi desenvolvido. Por exemplo, [nessa página](https://github.com/vinisalazar/BioEnergia-Lagoa/blob/master/Lagoa%20BioEnergy%20Project%2016S%20Analysis%20Workflow.md) temos um *workflow* para análise de uma comunidade microbiana a partir de amplificação e sequenciamento do gene rRNA 16S. O arquivo é do tipo .md (MarkDown), ou seja, um arquivo de texto contendo os comandos executados no Terminal utilizando os pacotes PEAR e QIIME. Repare como as versões de cada pacote, bem como a base de dados de referência (SILVA), foi referenciada. Cada comando (ou passo do protocolo) é precedido de uma explicação e aparece exatamente como foi digitado.\n",
    "\n",
    "Apesar de ser o suficiente para reproduzir a análise, esse documento falha em um aspecto, que é o de não *printar* o *output* de cada comando. Como já foi visto conseguimos fazer isso no Jupyter Notebook! Podemos mesclar texto em MarkDown, código com os devidos comentários e ainda podemos visualizar o output, como fizemos com o conjunto Iris!\n",
    "\n",
    "A prática de documentação de forma distinta para cada uma dos cinco tópicos de boas práticas propostos por Greg Wilson. Nossa próxima prática importante será a de usar um programa de **controle de versão.**\n",
    "\n",
    "![](img/git2.png)\n",
    "\n",
    "Todos nós já passamos por aquela situação de ter vários arquivos parecidos com nomes do tipo \"rascunho.doc\", que viram \"versaofinal.doc\", depois \"v\\_final2.doc\", \"v\\_finalcorrigida.doc\", \"vfinal\\_agora_vai.doc\"\n",
    "\n",
    "**Git** é um programa que monitora as mudanças em nossos projetos, e permite criar *checkpoints* em nossos arquivos e diretórios. Basicamente, nosso trabalho envolve os seguintes passos:\n",
    "\n",
    "* Criar coisas\n",
    "* Salvar coisas\n",
    "* Editar coisas\n",
    "* Salvar a coisa de novo\n",
    "\n",
    "No quarto passo, salvar novamente, que controle de versão irá nos auxiliar. Podemos registrar **o que foi alterado**, **quando** aconteceu a mudança, e comparar o **antes** e **depois.**\n",
    "\n",
    "![](img/git.png)\n",
    "\n",
    "Dessa forma, gerenciamos as versões do nosso projeto, como se tirassemos pequenos retratos (*snapshots*) de cada versão do projeto.\n",
    "\n",
    "Para ter uma ideia melhor de como o Git funciona, [siga o tutorial no site (em inglês).](https://try.github.io/levels/1/challenges/1)\n",
    "\n",
    "Apesar de vermos como funciona no site, é interessante fazer uma demonstração local na nossa máquina. Primeiro, [certifique-se que você tem o Git instalado.](https://git-scm.com/book/en/v2/Getting-Started-Installing-Git) Vamos criar um diretório, inicializar o Git nesse diretório, criar um arquivo de texto, adiciona-lo ao nosso arquivo Git, e realizar um *commit*, ou seja, registrar a mudança que realizamos no nosso projeto."
   ]
  },
  {
   "cell_type": "markdown",
   "metadata": {},
   "source": [
    "#### Demonstração de Git (notebooks/Módulo 3 - Git.ipynb)"
   ]
  },
  {
   "cell_type": "code",
   "execution_count": 1,
   "metadata": {},
   "outputs": [
    {
     "name": "stdout",
     "output_type": "stream",
     "text": [
      "/Users/viniWS/Bio/tutorial_v2/notebooks\r\n"
     ]
    }
   ],
   "source": [
    "# Primeiro, vamos nos certificar que estamos na pasta desejada:\n",
    "\n",
    "!pwd"
   ]
  },
  {
   "cell_type": "code",
   "execution_count": 2,
   "metadata": {},
   "outputs": [
    {
     "name": "stdout",
     "output_type": "stream",
     "text": [
      "/Users/viniWS/Bio/tutorial_v2\n"
     ]
    }
   ],
   "source": [
    "cd .."
   ]
  },
  {
   "cell_type": "code",
   "execution_count": 3,
   "metadata": {},
   "outputs": [
    {
     "name": "stdout",
     "output_type": "stream",
     "text": [
      "LICENSE.md                     \u001b[34mmarkdown\u001b[m\u001b[m\r\n",
      "README.md                      \u001b[34mnotebooks\u001b[m\u001b[m\r\n",
      "\u001b[34mdata\u001b[m\u001b[m                           \u001b[34mpapers\u001b[m\u001b[m\r\n",
      "\u001b[34mimg\u001b[m\u001b[m                            python_primeiros_comandos.html\r\n",
      "info.md                        slides.pptx\r\n"
     ]
    }
   ],
   "source": [
    "!ls"
   ]
  },
  {
   "cell_type": "code",
   "execution_count": 4,
   "metadata": {
    "collapsed": true
   },
   "outputs": [],
   "source": [
    "# Vamos criar um diretório que vai conter nosso repósitório Git.\n",
    "\n",
    "!mkdir repositorio_git"
   ]
  },
  {
   "cell_type": "code",
   "execution_count": 5,
   "metadata": {},
   "outputs": [
    {
     "name": "stdout",
     "output_type": "stream",
     "text": [
      "/Users/viniWS/Bio/tutorial_v2/repositorio_git\n"
     ]
    }
   ],
   "source": [
    "cd repositorio_git"
   ]
  },
  {
   "cell_type": "code",
   "execution_count": 6,
   "metadata": {
    "collapsed": true
   },
   "outputs": [],
   "source": [
    "# Com o comando ls, vemos que o repositorio está vazio.\n",
    "\n",
    "!ls"
   ]
  },
  {
   "cell_type": "code",
   "execution_count": 7,
   "metadata": {},
   "outputs": [
    {
     "name": "stdout",
     "output_type": "stream",
     "text": [
      "Initialized empty Git repository in /Users/viniWS/Bio/tutorial_v2/repositorio_git/.git/\r\n"
     ]
    }
   ],
   "source": [
    "# Vamos iniciar o sistema Git com o comando git init\n",
    "\n",
    "!git init"
   ]
  },
  {
   "cell_type": "code",
   "execution_count": 8,
   "metadata": {},
   "outputs": [
    {
     "name": "stdout",
     "output_type": "stream",
     "text": [
      "\u001b[34m.\u001b[m\u001b[m    \u001b[34m..\u001b[m\u001b[m   \u001b[34m.git\u001b[m\u001b[m\r\n"
     ]
    }
   ],
   "source": [
    "# Podemos ver o arquivo Git usando o parâmetro -a ou --all junto do comando ls\n",
    "\n",
    "!ls -a"
   ]
  },
  {
   "cell_type": "code",
   "execution_count": 9,
   "metadata": {},
   "outputs": [
    {
     "name": "stdout",
     "output_type": "stream",
     "text": [
      "\u001b[34m.\u001b[m\u001b[m           \u001b[34m..\u001b[m\u001b[m          \u001b[34m.git\u001b[m\u001b[m        arquivo.txt\r\n"
     ]
    }
   ],
   "source": [
    "# Agora é hora de criar um arquivo de texto e adiciona-lo ao nosso VCS (version control system)\n",
    "\n",
    "# O comando echo pega uma string e registra ela em arquivo de texto, da seguinte forma:\n",
    "\n",
    "!echo \"Esse é o arquivo que vamos adicionar ao nosso sistema Git.\" > arquivo.txt\n",
    "\n",
    "# Com ls, vemos que o arquivo foi criado.\n",
    "\n",
    "!ls -a"
   ]
  },
  {
   "cell_type": "code",
   "execution_count": 10,
   "metadata": {},
   "outputs": [
    {
     "name": "stdout",
     "output_type": "stream",
     "text": [
      "Esse é o arquivo que vamos adicionar ao nosso sistema Git.\r\n"
     ]
    }
   ],
   "source": [
    "# Com o comando cat podemos ver o conteúdo de arquivo.txt. Lembre de usar o tab! \n",
    "\n",
    "!cat arquivo.txt"
   ]
  },
  {
   "cell_type": "code",
   "execution_count": 11,
   "metadata": {},
   "outputs": [
    {
     "name": "stdout",
     "output_type": "stream",
     "text": [
      "On branch master\r\n",
      "\r\n",
      "No commits yet\r\n",
      "\r\n",
      "Untracked files:\r\n",
      "  (use \"git add <file>...\" to include in what will be committed)\r\n",
      "\r\n",
      "\t\u001b[31marquivo.txt\u001b[m\r\n",
      "\r\n",
      "nothing added to commit but untracked files present (use \"git add\" to track)\r\n"
     ]
    }
   ],
   "source": [
    "# O comando git status nos oferece um panorama das mudanças que ocorreram:\n",
    "\n",
    "!git status"
   ]
  },
  {
   "cell_type": "code",
   "execution_count": 12,
   "metadata": {},
   "outputs": [
    {
     "name": "stdout",
     "output_type": "stream",
     "text": [
      "On branch master\r\n",
      "\r\n",
      "No commits yet\r\n",
      "\r\n",
      "Changes to be committed:\r\n",
      "  (use \"git rm --cached <file>...\" to unstage)\r\n",
      "\r\n",
      "\t\u001b[32mnew file:   arquivo.txt\u001b[m\r\n",
      "\r\n"
     ]
    }
   ],
   "source": [
    "# O arquivo.txt está como \"untracked\". Significa que não está incluso em nossos commits.\n",
    "\n",
    "# Vamos adiciona-lo com git add:\n",
    "\n",
    "!git add arquivo.txt\n",
    "\n",
    "!git status"
   ]
  },
  {
   "cell_type": "code",
   "execution_count": 13,
   "metadata": {},
   "outputs": [
    {
     "name": "stdout",
     "output_type": "stream",
     "text": [
      "[master (root-commit) 7b6ef98] Arquivo.txt criado e adicionado.\r\n",
      " 1 file changed, 1 insertion(+)\r\n",
      " create mode 100644 arquivo.txt\r\n"
     ]
    }
   ],
   "source": [
    "# Pronto! O arquivo que criamos agora será incluso quando fizermos um commit.\n",
    "\n",
    "# Commits são como salvar um arquivo. Quando um é feito, o Git salva um \"retrato\" do repo.\n",
    "\n",
    "# É interessante adicionar mensagens aos commits, para saber o que foi realizado.\n",
    "\n",
    "!git commit -m \"Arquivo.txt criado e adicionado.\""
   ]
  },
  {
   "cell_type": "code",
   "execution_count": 14,
   "metadata": {},
   "outputs": [
    {
     "name": "stdout",
     "output_type": "stream",
     "text": [
      "/Users/viniWS/Bio/tutorial_v2\n"
     ]
    }
   ],
   "source": [
    "cd .."
   ]
  },
  {
   "cell_type": "code",
   "execution_count": 15,
   "metadata": {
    "collapsed": true
   },
   "outputs": [],
   "source": [
    "# Como não vamos mais usar esse repositório, vamos remove-lo:\n",
    "\n",
    "!rm -rf repositorio_git/"
   ]
  },
  {
   "cell_type": "markdown",
   "metadata": {},
   "source": [
    "![](../img/github.png)\n",
    "\n",
    "A vantagem do Git é o fato de ser totalmente integrado com o [**GitHub**](https://github.com/). Esse site é uma plataforma extremamente popular de **compartilhamento de código**, aonde usuários e organizações mantém **repositórios** (*repos*), pastas contendo projetos que podem ser *clonados*, *forkeados*, e no geral compartilhados entre usuários. Assim como esse tutorial que você está lendo é mantido no GitHub, você pode (e deve) fazer upload dos seus projetos para lá. Diferente de outras plataformas em nuvem, como Dropbox ou Google Drive, o GitHub é voltado especificamente para projetos de código, sejam programas, aplicativos, bibliotecas, *scripts*, e muito mais. Existe uma infinidade de recursos para aprender como o GitHub funciona, como o [guia Hello World!](https://guides.github.com/activities/hello-world/) do próprio site, ou, em português, [esse vídeo](https://www.youtube.com/watch?v=UMhskLXJuq4) e este [post de blog.](http://gabsferreira.com/criando-e-enviando-arquivos-para-seu-repositorio-no-github/) Dê uma olhada para entender a integração entre o VCS que é o Git e a plataforma que é o GitHub.\n",
    "\n",
    "Para entender o que é *clonar* ou *forkear* um repositório, vamos fazer isso com o repositório deste curso.\n",
    "\n",
    "![](../img/fork.png)\n",
    "\n",
    "Ao clicar no botão Fork, nos criamos uma **cópia** deste repositório em nosso perfil do GitHub. Logo, um **Fork** é uma cópia idêntica do repositório que foi forkeado, no entanto agora a pessoa que criou esse fork pode modificar esse repositório da maneira que quiser.\n",
    "\n",
    "Para que nós possamos ter esse repositório localmente, ou seja, em nossa máquina, precisamos clonar ele para nosso ambiente local. Isso é feito ali pelo botão **Clone or download**.\n",
    "\n",
    "![](../img/clone.png)\n",
    "\n",
    "Copiando o url do repo, basta digitar no terminal o comando `git clone <URL>`. O repositório será *clonado* para uma pasta *linkada* através do Git com o repositório hospedado no GitHub. Para sincronizar a pasta local com a pasta remota e vice-versa, usamos os comandos `git pull` (remoto > local) e `git push` (local > remoto). Antes de fazer isso, precisamos adicionar os arquivos que que precisamos sincronizar entre elas com os comandos `git add` e `git commit`, como vimos no [exemplo de Git](../notebooks/modulo_3_git.ipynb) na pasta [notebooks](../notebooks).\n",
    "\n",
    "A ideia de Forks é que os usuários podem ter uma cópia de um repositório de terceiros e customiza-la como quiserem, sem interferir no repo original. No entanto, o usuário pode solicitar um *pull request* ao dono original do repositório. Se o dono concordar com o *pull request*, pode incorporar aquelas mudanças ao repo original. Ou seja, o *usuário solicita ao dono do repositório que ele realize um pull do seu Fork, que foi modificado*.\n",
    "\n",
    "Digamos que você encontre um bug no script que você está usando. No entanto, ao revisar o código, vê que é algo simples de consertar, como mudar a versão de uma biblioteca que está sendo importada. Você tem duas escolhas, reportar um *issue* na página do repositório, ou fazer um Fork, editar o código e solicitar um *pull request* ao dono do repositório, para que ele atualize o código do repo original com aquela correção que você fez.\n",
    "\n",
    "### 3.3 Como aprender programação: dicas para biólogos\n",
    "\n",
    "![](../img/ploscomp.png)\n",
    "\n",
    "Nosso curso já nos muniu de ferramentas essenciais para trilharmos o caminho da informática. Para encerrar, vamos ver algumas dicas importantes que vão além de programas ou plataformas. Recente, os pesquisadores Maureen Carey e Jason Papin publicaram um guia curto intitulado \"Dez regras simples para biólogos aprendendo a programar\" [[2]](../papers/Carey & Papin 2018 Ten Simple Rules.pdf). Fizemos uma tradução e adaptação livre do guia para nos apoiarmos.\n",
    "\n",
    "**Regra 1: Comece com o final em mente**\n",
    "\n",
    "Quando for escolher uma linguagem, foque no seu objetivo. Você quer se tornar um programador? Você quer implementar ferramentas bioinformáticas? Você quer só analisar logo esses dados? Escolha um *approach* e uma linguagem que se adeque ao seus objetivos de curto e longo prazo.\n",
    "\n",
    "**Regra 2: Passos de bebê são passos**\n",
    "\n",
    "Uma vez que você começou a fazer o que precisa, se concentre em uma tarefa de cada vez e aplique suas habilidades de pensamento crítico e solução de problemas. Descontrua um problema grande em pequenos passos objetivos e resolva as tarefas uma a uma.\n",
    "\n",
    "**Regra 3: Imersão é a melhor ferramenta de aprendizado**\n",
    "\n",
    "Não \"costure\" uma análise trocando diferentes ambientes/linguagens. Quando se está aprendendo, se uma tarefa pode ser feita toda em um único ambiente ou linguagem, faça tudo lá. Como o comentário do usuário twopi que vimos no Módulo 1 (1.3), linguagens de programação são como idiomas, e imersão é a melhor forma de as aprender.\n",
    "\n",
    "**Regra 4: Ligue para um amigo**\n",
    "\n",
    "Existem numerosos recursos onlines: tutoriais (como este!), documentação e websites de Q&A, no entanto nada substitui a ajuda de um amigo ou colega. Encontre uma comunidade de programadores, que inclua usuários iniciantes e experientes, para procurar ajuda. Peça ajuda para descontruir e interpretar código, leia o código dos outros, tentando entender cada linha. Discuta bem suas perguntas, peça por correções em seu código.\n",
    "\n",
    "**Regra 5: Aprenda como fazer perguntas**\n",
    "\n",
    "Existe uma resposta para quase tudo online, mas você precisa saber o que perguntar para conseguir ajuda. Para isso, você precisa entender o problema. **Tente interpretrar as mensagens de erro, identifique cada componente da mensagem e como ele indica onde está o erro.** Entender o problema é essencial, e esse processo que se chama *debugging*. Vários sites oferecem [referências de como fazer suas perguntas](https://codereview.stackexchange.com/help/how-to-ask), então siga essas instruções para conseguir ajuda de form mais efetiva.\n",
    "\n",
    "**Regra 6: Não reinvente a roda**\n",
    "\n",
    "A regra 6 é encontrada em outras \"listas de regras para biólogos\" ([uma](http://journals.plos.org/ploscompbiol/article?id=10.1371/journal.pcbi.1002802), [duas](http://journals.plos.org/ploscompbiol/article?id=10.1371/journal.pcbi.1005128), [três](http://journals.plos.org/ploscompbiol/article?id=10.1371/journal.pcbi.1003244) e [quatro](http://journals.plos.org/ploscompbiol/article?id=10.1371/journal.pcbi.1000358)). Use todos os recursos disponíveis para você! Tutoriais online, documentação das linguagens, código publicado, pedacinhos de código interessantes que alguém compartilhou e os seu próprio trabalho. Leia bastante para identificar esses recursos, dê os créditos apropriados. Documente bem seu código para que você consiga aproveita-lo em trabalhos futuros e possa poupar tempo.\n",
    "\n",
    "**Regra 7: Desenvolva bons hábitos desde cedo**\n",
    "\n",
    "Pesquisa computacional é pesquisa, então utilize *boas práticas*. Isso inclui manter um caderno de laboratório computacional [[3]](../papers/Schnell 2015 Ten Simple Rules for a Computational Biologist's Laboratory Notebook.pdf), que deve incluir protocolos. Protocolos computacionais são scripts ou métodos, e devem incluir o código em si e como acessar tudo para implementar o código, *garantindo a reprodutibilidade*. Isso também envolve controle de versão para garantir a manutenção dos protocolos e cadernos.\n",
    "\n",
    "**Regra 8: prática leva à perfeição**\n",
    "\n",
    "Use conjuntos de dados (*datasets*) simples para praticar um problema ou análise. Como fizemos com o Iris dataset, use conjuntos pequenos e fáceis que permitam prever os resultados, mas que possuam a mesma estrutura dos seus dados. Teste sua análise usando esses conjuntos de dados como controle negativo.\n",
    "\n",
    "**Regra 9: Ensina a si mesmo**\n",
    "\n",
    "Assim como devemos fazer quando vamos ensinar alguém, devemos ser generosos com a paciência e empatia quando ensinamos a nós mesmos. Você não está sozinho em sua frustração ocasional. Aprender leva tempo, então planeja de acordo. Explora teus recursos e planeja teu aprendizado, sempre avaliando teu progresso.\n",
    "\n",
    "**Regra 10: *Just do it***\n",
    "\n",
    "Só começe a codar. Você não consegue editar uma página em branco.\n",
    "\n",
    "--\n",
    "\n",
    "Partindo do que foi exposto nesse guia, podemos frisar alguns pontos:\n",
    "\n",
    "#### Assim como na bancada, faça uso de boas práticas\n",
    "Recapitulando a regra 7, desde cedo devemos adotar boas práticas! Este tutorial que você está lendo foi desenvolvido com esse fim. Uma boa referência para isso é o paper de Wilson et al [[1]](../papers/Wilson et al 2017 Good enough practices scientific computing.pdf). \n",
    "\n",
    "É importante manter nossa máquina organizada. Quando você começar a programar, vai se encontrar baixando muitos pacotes, bibliotecas e afins, bem como criando pastas para seus projetos. Como o Terminal costuma abrir na *home folder*, uma sugestão é criar um diretório nela que vai conter todos estes tais pacotes e ferramentas de terceiros (*third-party software*) que você vai acabar precisando. A partir daí, você pode botar seus projetos próprios e repositórios de GitHub nessa mesma pasta ou em uma segunda (e até terceira) pasta separada. Se você estiver usando o ```conda``` como gerenciador de pacotes, a pasta \"Anaconda\" em sua *home folder* contém seus ambientes e suas respectivas bibliotecas, no entanto de qualquer forma criar uma pasta para abrigar outro software que não seja do Anaconda.\n",
    "\n",
    "Para nossos diretórios de projeto, devemos adotar um layout de organização de pastas que funcione para nós. Por exemplo o diretório principal é ```pibic_fulano```, descrevendo de forma simples sobre o que se trata. Nele, temos um diretório ```data``` para os dados, um ```img```para imagens, um ```scripts``` para o código que foi escrito ou utilizado, um ```relatorio``` com os arquivos do relatório PIBIC em markdown, em um arquivo README em .txt ou .md dando mais detalhes sobre o conteúdo do repositório. Vamos reproduzir esse padrão para diretórios similares. Em cada um deles, é interessante criar um arquivo Git (com o comando ```git init```) e eventualmente fazer upload para o GitHub, o que também garante um backup em nuvem! **Backups são importantes**. Recomenda-se três fontes de backup, sendo que uma deve ser em nuvem (GitHub, Google Drive, Dropbox), e as outras podem ser, por exemplo, seu computador e um HD externo ou flash drive. Usando o Git ou outras ferramentas. é possível manter todas as fontes sincronizadas entre si.\n",
    "\n",
    "Wilson et al. também recomendam o seguinte protocolo para lidar com arquivos contendo dados:  \n",
    "\n",
    "1. Salve os dados \"crus\" (*raw data*), **exatamente como foram coletados**.\n",
    "2. Faça backup destes.\n",
    "3. Crie \"*analysis-friendly data*\", ou seja, dados que sejam compatíveis com o software que será usado para analisá-lo. Isso pode envolver editar cabeçotes, converter formatos de arquivo e afins, e vai facilitar que você execute o passo 4.\n",
    "4. Crie os dados que quer ver no mundo. Figuras, gráficos, tabelas ou como você desejar apresentar seus dados.  \n",
    "5. Registre todos os passos usados para processar os dados. Isso pode ser feito em um Jupyter Notebook, devidamente anotado como mencionado na **Regra 7**, acima. No exemplo do diretório ```pibic_fulano```, poderíamos ter mais uma pasta chamada ```analysis``` com arquivos .ipynb descrevendo as análises com os dados da pasta ```data``` e o software da pasta ```scripts```, bem como eventuais comentários.\n",
    "\n",
    "Para arquivos contendo software, podemos aproveitar mais algumas dicas deste guia:  \n",
    "\n",
    "1. Bote um breve comentário explicativo no início de todo programa/script/código.\n",
    "2. Decomponha programas em funções.\n",
    "3. Seja impiedoso com duplicações e redundâncias.\n",
    "4. Sempre procure por bibliotecas de software bem mantidas e atuais que podem fazer o que você precisa.\n",
    "5. Teste bibliotecas antes de confiar nelas.\n",
    "6. Dê nomes significativos para variáveis e funções.\n",
    "7. Explicite dependências e requerimentos para correr sua análise.\n",
    "8. Dê datasets de exemplo.\n",
    "\n",
    "Se refira ao paper e também à seção 3.1 para ver outras dicas nos tópicos de **gestão de dados**, **gestão de software**, **colaborações**, **organização de projeto**, **monitoramento de mudanças** e **redação de manuscritos.**\n",
    "\n",
    "#### Não tenha medo de errar\n",
    "Essa dica se refere às **Regras 5 e 10**. Em programação, é muito comum encontrar mensagens de erro. Na verdade, elas nos ajudam! Começamos recebendo uma mensagem de erro e nem sabemos por que. Parando para a ler, conseguimos descobrir QUAL é o problema para tentar resolve-lo. As vezes mudamos uma coisinha e obtemos um erro diferente.\n",
    "\n",
    "![](../img/works.jpg)\n",
    "\n",
    "Apesar da **Regra 4**, o melhor amigo do programador será o [Google](https://www.google.com), onde podemos malandramente copiar e colar nossas mensagens de erro e esperar que alguém que já teve o mesmo problema tenha conseguido resolver. Certo? Não exatamente. Como mencionado na **Regra 5**, devemos fazer bem nossas pesquisas, e se necessário, perguntar em sites como o [Stack OverFlow](https://stackoverflow.com/), explicitando nosso problema e dando exemplos conforme o adequado.\n",
    "\n",
    "![[](https://stackoverflow.com/)](../img/stackover.png)\n",
    "\n",
    "#### Aprenda inglês\n",
    "Essa é uma recomendação tão geral que deve valer para qualquer pessoa que queira trabalhar como pesquisador. Assim como na ciência, na programação e informática o inglês é de longe o idioma predominante, seja para tutoriais, documentação, nome de programas, tipos de dados e variáveis. Também é o mais difundido em fóruns de programação, livros, periódicos e os mais diversos tipos de recursos. Uma das motivações para criar esse tutorial que você está lendo foi justamente a carência de materiais em língua portuguesa. Embora existam bons recursos para aprender programação, principalmente no [YouTube](https://www.youtube.com/) e em blogs, são poucos os que estão voltados à **computação científica** em si.\n",
    "\n",
    "### Conclusão do Módulo 3.\n",
    "\n",
    "Chegamos ao fim do nosso conteúdo! Vamos fazer um sumário geral e recapitular o que aprendemos.\n",
    "\n",
    "* Na [**Introdução**](./introducao.md/) exploramos a importância de aprender informática e o porquê deste curso, e também fomos apresentados ao que será ensinado.\n",
    "* No [**Módulo 1**](./modulo_1.md/), aprendemos os básicos de três ferramentas essenciais:\n",
    "\t1. Terminal: Ter um *prompt* de comando (CLI) nos permite executar funções do sistema (*bash*), bem como um console para diferentes linguagens de programação, como Python e R.\n",
    "\t2. Atom: utilizart um editor de texto permite o registro, visualização e modificação do nosso código. Acoplar nosso editor de texto ao Terminal fornece uma **IDE** simples, que pode servir para desenvolvimento, análises ou testes.\n",
    "\t3. Python: compreender e dominar uma linguagem de programação permite entender seu propósito, como programas nela escritos funcionam, e como escrever código utilizando a dita linguagem. Python é uma linguagem poderosa, versátil e popular, o que a torna muito indicada para iniciantes.\n",
    "* No [**Módulo 2**](./modulo_2.md), aprendemos sobre gerenciadores de pacotes como o ```conda```, e também como baixar e instalar bibliotecas do [Anaconda Cloud](https://anaconda.org/) ou do [PyPI](https://pypi.python.org/pypi), utilizando `pip`. Criamos um ambiente com as bibliotecas Pandas, Matplotlib e Jupyter, que são bibliotecas populares de Python que permitem análise e visualização de dados (Pandas e Matplotlib) e um ambiente integrado de execução e documentação de código (Jupyter). Fizemos uso dessas biliotecas para importar e visualizar o Iris dataset.\n",
    "* No [**Módulo 3**](./modulo_3.md), discutimos o que são boas práticas de computação científica [[1]](../papers/Wilson et al 2017 Good enough practices scientific computing.pdf), tivemos uma demonstração de controle de versão e o que é e para que serve o GitHub. Vimos um guia de dez regras simples para biólogos aprendendo a programar [[2]](../papers/Carey & Papin 2018 Ten Simple Rules.pdf), e outras dicas.\n",
    "\n",
    "#### Da onde seguir daqui\n",
    "\n",
    "Explore as referências!\n",
    "\n",
    "Faça um curso de Python!\n",
    "\n",
    "Crie uma pasta com um conjunto de dados que você tenha. Tente escrever código que processe os seus dados de alguma forma. Inicialize o Git no diretório. Se você ainda não tem uma conta no GitHub, crie uma e faça upload do seu repositório.\n",
    "\n",
    "**Referências:**\n",
    "   \n",
    "[[1]](../papers/Wilson et al 2017 Good enough practices scientific computing.pdf) **Wilson et al, 2017.** Good enough practices in scientific computing.  \n",
    "[[2]](../papers/Carey & Papin 2018 Ten Simple Rules.pdf) **Carey & Papin, 2018.** Ten simple rules for biologists learning to program.  \n",
    "[[3]](../papers/Schnell 2015 Ten Simple Rules for a Computational Biologist's Laboratory Notebook.pdf) **Schnell, 2015.** Ten simple rules for a computational biologist's laboratory notebook."
   ]
  }
 ],
 "metadata": {
  "kernelspec": {
   "display_name": "Python [conda env:tutorial]",
   "language": "python",
   "name": "conda-env-tutorial-py"
  },
  "language_info": {
   "codemirror_mode": {
    "name": "ipython",
    "version": 2
   },
   "file_extension": ".py",
   "mimetype": "text/x-python",
   "name": "python",
   "nbconvert_exporter": "python",
   "pygments_lexer": "ipython2",
   "version": "2.7.14"
  }
 },
 "nbformat": 4,
 "nbformat_minor": 2
}
