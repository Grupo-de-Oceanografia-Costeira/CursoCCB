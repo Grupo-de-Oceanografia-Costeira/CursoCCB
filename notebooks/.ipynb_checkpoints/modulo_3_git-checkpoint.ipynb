{
 "cells": [
  {
   "cell_type": "markdown",
   "metadata": {},
   "source": [
    "#### Módulo 3\n",
    "\n",
    "#### Demonstração de Git"
   ]
  },
  {
   "cell_type": "code",
   "execution_count": 1,
   "metadata": {},
   "outputs": [
    {
     "name": "stdout",
     "output_type": "stream",
     "text": [
      "/Users/viniWS/Bio/tccvini/tutorial_v2/notebooks\r\n"
     ]
    }
   ],
   "source": [
    "# Primeiro, vamos nos certificar que estamos na pasta desejada:\n",
    "\n",
    "!pwd"
   ]
  },
  {
   "cell_type": "code",
   "execution_count": 2,
   "metadata": {},
   "outputs": [
    {
     "name": "stdout",
     "output_type": "stream",
     "text": [
      "/Users/viniWS/Bio/tccvini/tutorial_v2\n"
     ]
    }
   ],
   "source": [
    "cd .."
   ]
  },
  {
   "cell_type": "code",
   "execution_count": 3,
   "metadata": {},
   "outputs": [
    {
     "name": "stdout",
     "output_type": "stream",
     "text": [
      "Módulo 1.md                      introdução.md\r\n",
      "Módulo 2.html                    iris.csv\r\n",
      "Módulo 2.md                      \u001b[34mnotebooks\u001b[m\u001b[m\r\n",
      "Módulo 3.md                      \u001b[34mpapers\u001b[m\u001b[m\r\n",
      "Python - Primeiros comandos.html \u001b[34mscreens\u001b[m\u001b[m\r\n",
      "introdução.html\r\n"
     ]
    }
   ],
   "source": [
    "!ls"
   ]
  },
  {
   "cell_type": "code",
   "execution_count": 4,
   "metadata": {
    "collapsed": true
   },
   "outputs": [],
   "source": [
    "# Vamos criar um diretório que vai conter nosso repósitório Git.\n",
    "\n",
    "!mkdir repositorio_git"
   ]
  },
  {
   "cell_type": "code",
   "execution_count": 5,
   "metadata": {},
   "outputs": [
    {
     "name": "stdout",
     "output_type": "stream",
     "text": [
      "/Users/viniWS/Bio/tccvini/tutorial_v2/repositorio_git\n"
     ]
    }
   ],
   "source": [
    "cd repositorio_git"
   ]
  },
  {
   "cell_type": "code",
   "execution_count": 6,
   "metadata": {
    "collapsed": true
   },
   "outputs": [],
   "source": [
    "# Com o comando ls, vemos que o repositorio está vazio.\n",
    "\n",
    "!ls"
   ]
  },
  {
   "cell_type": "code",
   "execution_count": 7,
   "metadata": {},
   "outputs": [
    {
     "name": "stdout",
     "output_type": "stream",
     "text": [
      "Initialized empty Git repository in /Users/viniWS/Bio/tccvini/tutorial_v2/repositorio_git/.git/\r\n"
     ]
    }
   ],
   "source": [
    "# Vamos iniciar o sistema Git com o comando git init\n",
    "\n",
    "!git init"
   ]
  },
  {
   "cell_type": "code",
   "execution_count": 8,
   "metadata": {},
   "outputs": [
    {
     "name": "stdout",
     "output_type": "stream",
     "text": [
      "\u001b[34m.\u001b[m\u001b[m    \u001b[34m..\u001b[m\u001b[m   \u001b[34m.git\u001b[m\u001b[m\r\n"
     ]
    }
   ],
   "source": [
    "# Podemos ver o arquivo Git usando o parâmetro -a ou --all junto do comando ls\n",
    "\n",
    "!ls -a"
   ]
  },
  {
   "cell_type": "code",
   "execution_count": 9,
   "metadata": {},
   "outputs": [
    {
     "name": "stdout",
     "output_type": "stream",
     "text": [
      "\u001b[34m.\u001b[m\u001b[m           \u001b[34m..\u001b[m\u001b[m          \u001b[34m.git\u001b[m\u001b[m        arquivo.txt\r\n"
     ]
    }
   ],
   "source": [
    "# Agora é hora de criar um arquivo de texto e adiciona-lo ao nosso VCS (version control system)\n",
    "\n",
    "# O comando echo pega uma string e registra ela em arquivo de texto, da seguinte forma:\n",
    "\n",
    "!echo \"Esse é o arquivo que vamos adicionar ao nosso sistema Git.\" > arquivo.txt\n",
    "\n",
    "# Com ls, vemos que o arquivo foi criado.\n",
    "\n",
    "!ls -a"
   ]
  },
  {
   "cell_type": "code",
   "execution_count": 10,
   "metadata": {},
   "outputs": [
    {
     "name": "stdout",
     "output_type": "stream",
     "text": [
      "Esse é o arquivo que vamos adicionar ao nosso sistema Git.\r\n"
     ]
    }
   ],
   "source": [
    "# Com o comando less podemos ver o conteúdo de arquivo.txt. Lembre de usar o tab! \n",
    "\n",
    "!less arquivo.txt"
   ]
  },
  {
   "cell_type": "code",
   "execution_count": 11,
   "metadata": {},
   "outputs": [
    {
     "name": "stdout",
     "output_type": "stream",
     "text": [
      "On branch master\r\n",
      "\r\n",
      "No commits yet\r\n",
      "\r\n",
      "Untracked files:\r\n",
      "  (use \"git add <file>...\" to include in what will be committed)\r\n",
      "\r\n",
      "\t\u001b[31marquivo.txt\u001b[m\r\n",
      "\r\n",
      "nothing added to commit but untracked files present (use \"git add\" to track)\r\n"
     ]
    }
   ],
   "source": [
    "# O comando git status nos oferece um panorama das mudanças que ocorreram:\n",
    "\n",
    "!git status"
   ]
  },
  {
   "cell_type": "code",
   "execution_count": 12,
   "metadata": {},
   "outputs": [
    {
     "name": "stdout",
     "output_type": "stream",
     "text": [
      "On branch master\r\n",
      "\r\n",
      "No commits yet\r\n",
      "\r\n",
      "Changes to be committed:\r\n",
      "  (use \"git rm --cached <file>...\" to unstage)\r\n",
      "\r\n",
      "\t\u001b[32mnew file:   arquivo.txt\u001b[m\r\n",
      "\r\n"
     ]
    }
   ],
   "source": [
    "# O arquivo.txt está como \"untracked\". Significa que não está incluso em nossos commits.\n",
    "\n",
    "# Vamos adiciona-lo com git add:\n",
    "\n",
    "!git add arquivo.txt\n",
    "\n",
    "!git status"
   ]
  },
  {
   "cell_type": "code",
   "execution_count": 13,
   "metadata": {},
   "outputs": [
    {
     "name": "stdout",
     "output_type": "stream",
     "text": [
      "[master (root-commit) 1aa86b0] Arquivo.txt criado e adicionado.\r\n",
      " Committer: Vini Salazar <viniWS@Sverdrup.local>\r\n",
      "Your name and email address were configured automatically based\r\n",
      "on your username and hostname. Please check that they are accurate.\r\n",
      "You can suppress this message by setting them explicitly. Run the\r\n",
      "following command and follow the instructions in your editor to edit\r\n",
      "your configuration file:\r\n",
      "\r\n",
      "    git config --global --edit\r\n",
      "\r\n",
      "After doing this, you may fix the identity used for this commit with:\r\n",
      "\r\n",
      "    git commit --amend --reset-author\r\n",
      "\r\n",
      " 1 file changed, 1 insertion(+)\r\n",
      " create mode 100644 arquivo.txt\r\n"
     ]
    }
   ],
   "source": [
    "# Pronto! O arquivo que criamos agora será incluso quando fizermos um commit.\n",
    "\n",
    "# Commits são como salvar um arquivo. Quando um é feito, o Git salva um \"retrato\" do repo.\n",
    "\n",
    "# É interessante adicionar mensagens aos commits, para saber o que foi realizado.\n",
    "\n",
    "!git commit -m \"Arquivo.txt criado e adicionado.\""
   ]
  },
  {
   "cell_type": "code",
   "execution_count": 14,
   "metadata": {},
   "outputs": [
    {
     "name": "stdout",
     "output_type": "stream",
     "text": [
      "/Users/viniWS/Bio/tccvini/tutorial_v2\n"
     ]
    }
   ],
   "source": [
    "cd .."
   ]
  },
  {
   "cell_type": "code",
   "execution_count": 15,
   "metadata": {
    "collapsed": true
   },
   "outputs": [],
   "source": [
    "# Como não vamos mais usar esse repositório, vamos remove-lo:\n",
    "\n",
    "!rm -rf repositorio_git/"
   ]
  }
 ],
 "metadata": {
  "kernelspec": {
   "display_name": "Python [conda env:tutorial]",
   "language": "python",
   "name": "conda-env-tutorial-py"
  },
  "language_info": {
   "codemirror_mode": {
    "name": "ipython",
    "version": 2
   },
   "file_extension": ".py",
   "mimetype": "text/x-python",
   "name": "python",
   "nbconvert_exporter": "python",
   "pygments_lexer": "ipython2",
   "version": "2.7.14"
  }
 },
 "nbformat": 4,
 "nbformat_minor": 2
}
