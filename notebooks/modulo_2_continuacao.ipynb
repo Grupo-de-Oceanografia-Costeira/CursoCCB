{
 "cells": [
  {
   "cell_type": "markdown",
   "metadata": {},
   "source": [
    "### Módulo 2 - continuação no arquivo .ipynb"
   ]
  },
  {
   "cell_type": "markdown",
   "metadata": {},
   "source": [
    "### 2.3 Plotando dados no Jupyter Notebook\n",
    "\n",
    "Continuamos o Módulo 2 em um Jupyter Notebook. Essas páginas possibilitam a disposição de texto MarkDown (como este) e código Python (algumas caixas abaixo). Vamos anotar nossa análise com porções de MarkDown, mas o que cada comando específico faz será anotado com comentários no próprio código. Os comentários são precedidos do caracter '#' que indica que aquela porção é um comentário e portanto não será executado como código. Diferente de uma IDE, os Notebooks **não são** ambientes ideais para testes, experimentos ou instalação de programas, mas são excelentes para descrição e organização de análises. Os Notebooks suportam uma variedade de linguagens, inclusive bash, então é possível comandar o Terminal por aqui. Basta botar um `!` na frente do comando."
   ]
  },
  {
   "cell_type": "code",
   "execution_count": 1,
   "metadata": {},
   "outputs": [
    {
     "name": "stdout",
     "output_type": "stream",
     "text": [
      "/Users/viniWS/Bio/tutorial_v2\n"
     ]
    }
   ],
   "source": [
    "cd ~/Bio/tutorial_v2"
   ]
  },
  {
   "cell_type": "code",
   "execution_count": 1,
   "metadata": {},
   "outputs": [
    {
     "name": "stdout",
     "output_type": "stream",
     "text": [
      "fasta.ipynb                     modulo_3_git.ipynb\r\n",
      "modulo_2_continuacao.ipynb      python_primeiros_comandos.ipynb\r\n"
     ]
    }
   ],
   "source": [
    "!ls"
   ]
  },
  {
   "cell_type": "markdown",
   "metadata": {},
   "source": [
    "Há muito o que se fazer com os Jupyter Notebooks, e é muito bom ficar confortável com eles! Bom, mas o que queremos agora é usa-los para realizar uma análise de dados que poderia caber a qualquer estudante de biologia. Vamos usar o famoso conjunto de dados Iris, que está em um arquivo .csv em nossa pasta local. Arquivos .csv ou .tsv (*comma* ou *tab-separated values*) são arquivos de texto usados para representar tabelas. Uma tabela do Excel, por exemplo, pode ser exportada como .csv.\n",
    "\n",
    "O uso do **Pandas** possibilita importar a tabela com os dados diretamente em um objeto do tipo *Dataframe*. Vamos importar a biblioteca Pandas com o comando `import` e abreviar ela como `pd`. Também vamos importar a biblioteca `matplotlib.pyplot` e abreviar como `plt`. Ambas essas abreviações são universais para esses pacotes. A razão que importamos `matplotlib.pyplot` ao invés de `matplotlib` é porque `pyplot` é uma **API**, um programa que serve como uma interface para 'conectar' os pacotes Pandas e Matplotlib."
   ]
  },
  {
   "cell_type": "code",
   "execution_count": 2,
   "metadata": {},
   "outputs": [],
   "source": [
    "# Importando as bibliotecas e suas respectivas abreviações\n",
    "import pandas as pd\n",
    "import matplotlib.pyplot as plt"
   ]
  },
  {
   "cell_type": "markdown",
   "metadata": {},
   "source": [
    "Agora já temos todos os métodos dessas bibliotecas à nossa disposição. Só falta importar os dados. Para isso, o Pandas oferece o método read_csv, que converte um arquivo .csv em dataframe. Vamos começar com um arquivo bem simples, o [dest.txt](../data/dest.txt)."
   ]
  },
  {
   "cell_type": "code",
   "execution_count": 5,
   "metadata": {},
   "outputs": [
    {
     "name": "stdout",
     "output_type": "stream",
     "text": [
      "Volume_mL\tTemperatura_C\r\n",
      "1\t48\r\n",
      "5\t55.4\r\n",
      "10\t59.8\r\n",
      "15\t62.8\r\n",
      "20\t64.1\r\n",
      "25\t67.4\r\n",
      "30\t69.4\r\n",
      "35\t70.4\r\n",
      "40\t72\r\n",
      "45\t72.6\r\n",
      "50\t73.6\r\n",
      "55\t74.4\r\n",
      "60\t75\r\n",
      "65\t76\r\n",
      "70\t77.9\r\n",
      "75\t79\r\n",
      "80\t134.1\r\n",
      "85\t146.2\r\n",
      "90\t150\r\n",
      "\r\n"
     ]
    }
   ],
   "source": [
    "# Vamos dar uma olhadinha nos dados.\n",
    "!cat data/dest.txt"
   ]
  },
  {
   "cell_type": "code",
   "execution_count": 6,
   "metadata": {},
   "outputs": [
    {
     "data": {
      "image/png": "[encoded data removed]",
      "text/plain": [
       "<Figure size 432x288 with 1 Axes>"
      ]
     },
     "metadata": {
      "needs_background": "light"
     },
     "output_type": "display_data"
    }
   ],
   "source": [
    "# O comando pd.read_csv lê os dados e armazena em um dataframe \"df\". Precisamos especificar a separação por tab (\"\\t\")\n",
    "df = pd.read_csv(\"data/dest.txt\", sep=\"\\t\")\n",
    "\n",
    "plt.plot(df[\"Volume_mL\"], df[\"Temperatura_C\"])\n",
    "plt.show()"
   ]
  },
  {
   "cell_type": "code",
   "execution_count": 8,
   "metadata": {},
   "outputs": [
    {
     "data": {
      "image/png": "[encoded data removed]",
      "text/plain": [
       "<Figure size 432x288 with 1 Axes>"
      ]
     },
     "metadata": {
      "needs_background": "light"
     },
     "output_type": "display_data"
    }
   ],
   "source": [
    "plt.plot(df[\"Volume_mL\"], df[\"Temperatura_C\"])\n",
    "plt.ylim((0, 150))\n",
    "plt.xlabel(\"Volume (mL)\")\n",
    "plt.ylabel(\"Temperatura (ºC)\")\n",
    "plt.show()"
   ]
  },
  {
   "cell_type": "markdown",
   "metadata": {},
   "source": [
    "Agora, vamos importar um conjunto de dados mais complexo, o \"Iris\". Vamos armazenar esse dataframe em uma variável `iris`."
   ]
  },
  {
   "cell_type": "code",
   "execution_count": 4,
   "metadata": {},
   "outputs": [
    {
     "name": "stdout",
     "output_type": "stream",
     "text": [
      "     SepalLengthCm  SepalWidthCm  PetalLengthCm  PetalWidthCm         species\n",
      "0              5.1           3.5            1.4           0.2     Iris-setosa\n",
      "1              4.9           3.0            1.4           0.2     Iris-setosa\n",
      "2              4.7           3.2            1.3           0.2     Iris-setosa\n",
      "3              4.6           3.1            1.5           0.2     Iris-setosa\n",
      "4              5.0           3.6            1.4           0.2     Iris-setosa\n",
      "5              5.4           3.9            1.7           0.4     Iris-setosa\n",
      "6              4.6           3.4            1.4           0.3     Iris-setosa\n",
      "7              5.0           3.4            1.5           0.2     Iris-setosa\n",
      "8              4.4           2.9            1.4           0.2     Iris-setosa\n",
      "9              4.9           3.1            1.5           0.1     Iris-setosa\n",
      "10             5.4           3.7            1.5           0.2     Iris-setosa\n",
      "11             4.8           3.4            1.6           0.2     Iris-setosa\n",
      "12             4.8           3.0            1.4           0.1     Iris-setosa\n",
      "13             4.3           3.0            1.1           0.1     Iris-setosa\n",
      "14             5.8           4.0            1.2           0.2     Iris-setosa\n",
      "15             5.7           4.4            1.5           0.4     Iris-setosa\n",
      "16             5.4           3.9            1.3           0.4     Iris-setosa\n",
      "17             5.1           3.5            1.4           0.3     Iris-setosa\n",
      "18             5.7           3.8            1.7           0.3     Iris-setosa\n",
      "19             5.1           3.8            1.5           0.3     Iris-setosa\n",
      "20             5.4           3.4            1.7           0.2     Iris-setosa\n",
      "21             5.1           3.7            1.5           0.4     Iris-setosa\n",
      "22             4.6           3.6            1.0           0.2     Iris-setosa\n",
      "23             5.1           3.3            1.7           0.5     Iris-setosa\n",
      "24             4.8           3.4            1.9           0.2     Iris-setosa\n",
      "25             5.0           3.0            1.6           0.2     Iris-setosa\n",
      "26             5.0           3.4            1.6           0.4     Iris-setosa\n",
      "27             5.2           3.5            1.5           0.2     Iris-setosa\n",
      "28             5.2           3.4            1.4           0.2     Iris-setosa\n",
      "29             4.7           3.2            1.6           0.2     Iris-setosa\n",
      "..             ...           ...            ...           ...             ...\n",
      "120            6.9           3.2            5.7           2.3  Iris-virginica\n",
      "121            5.6           2.8            4.9           2.0  Iris-virginica\n",
      "122            7.7           2.8            6.7           2.0  Iris-virginica\n",
      "123            6.3           2.7            4.9           1.8  Iris-virginica\n",
      "124            6.7           3.3            5.7           2.1  Iris-virginica\n",
      "125            7.2           3.2            6.0           1.8  Iris-virginica\n",
      "126            6.2           2.8            4.8           1.8  Iris-virginica\n",
      "127            6.1           3.0            4.9           1.8  Iris-virginica\n",
      "128            6.4           2.8            5.6           2.1  Iris-virginica\n",
      "129            7.2           3.0            5.8           1.6  Iris-virginica\n",
      "130            7.4           2.8            6.1           1.9  Iris-virginica\n",
      "131            7.9           3.8            6.4           2.0  Iris-virginica\n",
      "132            6.4           2.8            5.6           2.2  Iris-virginica\n",
      "133            6.3           2.8            5.1           1.5  Iris-virginica\n",
      "134            6.1           2.6            5.6           1.4  Iris-virginica\n",
      "135            7.7           3.0            6.1           2.3  Iris-virginica\n",
      "136            6.3           3.4            5.6           2.4  Iris-virginica\n",
      "137            6.4           3.1            5.5           1.8  Iris-virginica\n",
      "138            6.0           3.0            4.8           1.8  Iris-virginica\n",
      "139            6.9           3.1            5.4           2.1  Iris-virginica\n",
      "140            6.7           3.1            5.6           2.4  Iris-virginica\n",
      "141            6.9           3.1            5.1           2.3  Iris-virginica\n",
      "142            5.8           2.7            5.1           1.9  Iris-virginica\n",
      "143            6.8           3.2            5.9           2.3  Iris-virginica\n",
      "144            6.7           3.3            5.7           2.5  Iris-virginica\n",
      "145            6.7           3.0            5.2           2.3  Iris-virginica\n",
      "146            6.3           2.5            5.0           1.9  Iris-virginica\n",
      "147            6.5           3.0            5.2           2.0  Iris-virginica\n",
      "148            6.2           3.4            5.4           2.3  Iris-virginica\n",
      "149            5.9           3.0            5.1           1.8  Iris-virginica\n",
      "\n",
      "[150 rows x 5 columns]\n"
     ]
    }
   ],
   "source": [
    "# Vamos armazenar esse objeto Pandas em uma variável 'iris'\n",
    "iris = pd.read_csv('../data/iris.csv')\n",
    "print(iris)"
   ]
  },
  {
   "cell_type": "markdown",
   "metadata": {},
   "source": [
    "#### Nota sobre importar arquivos\n",
    "\n",
    "Aqui é importante notar o que fizemos ao importar o conjunto Iris. Utilizamos o **método** ```pd.read_csv()```. Esse método serve apenas para arquivos do tipo CSV (comma-separated values). Esse formato de arquivo é bem comum, basicamente é um arquivo de texto contendo um tabela com valores separados por vírgulas (*commas*), ou qualquer outro *delimiter*. Uma planilha do Excel, por exemplo, pode ser salva em .csv. Se nosso arquivo tivesse os valores separados pelo caracter \";\", precisamos \"explicar\" isso. Nosso comando seria ```pd.read_csv('data/iris.csv', delimiter = ';')```. O método ```pd.read_csv()``` tem um **argumento** obrigatório, que é o arquivo que será importado. O argumento \"delimiter\" é \",\" a não ser que especificado.\n",
    "\n",
    "A biblioteca Pandas é útil porque ela transforma arquivos em *Dataframes*, que são **objetos** que permitem uma fácil visualização e manipulação dos dados. Logo, depois do comando acima, temos um **objeto** (um Pandas dataframe) armazenado em uma variável (```iris```).\n",
    "\n",
    "Como o formato CSV é bem comum, sua importação é simples. Quando trabalhamos com outros formatos de arquivo, devemos nos atentar a como importa-los. Aqui existem muitas possibilidades, podemos coletar dados da web, importar dados de outro ambiente (como R, por exemplo), se estamos com um formato incomum, talvez precisaremos de algum pacote que converta ele em algo que o Pandas possa entender. Que tipo de dado você tem?"
   ]
  },
  {
   "cell_type": "code",
   "execution_count": 10,
   "metadata": {},
   "outputs": [
    {
     "data": {
      "text/plain": [
       "pandas.core.frame.DataFrame"
      ]
     },
     "execution_count": 10,
     "metadata": {},
     "output_type": "execute_result"
    }
   ],
   "source": [
    "# Quando verificamos que tipo de dado é 'iris', vemos que o Pandas já converte o arquivo .csv em um Dataframe.\n",
    "type(iris)"
   ]
  },
  {
   "cell_type": "code",
   "execution_count": 11,
   "metadata": {},
   "outputs": [
    {
     "data": {
      "text/html": [
       "<div>\n",
       "<style scoped>\n",
       "    .dataframe tbody tr th:only-of-type {\n",
       "        vertical-align: middle;\n",
       "    }\n",
       "\n",
       "    .dataframe tbody tr th {\n",
       "        vertical-align: top;\n",
       "    }\n",
       "\n",
       "    .dataframe thead th {\n",
       "        text-align: right;\n",
       "    }\n",
       "</style>\n",
       "<table border=\"1\" class=\"dataframe\">\n",
       "  <thead>\n",
       "    <tr style=\"text-align: right;\">\n",
       "      <th></th>\n",
       "      <th>SepalLengthCm</th>\n",
       "      <th>SepalWidthCm</th>\n",
       "      <th>PetalLengthCm</th>\n",
       "      <th>PetalWidthCm</th>\n",
       "      <th>species</th>\n",
       "    </tr>\n",
       "  </thead>\n",
       "  <tbody>\n",
       "    <tr>\n",
       "      <th>0</th>\n",
       "      <td>5.1</td>\n",
       "      <td>3.5</td>\n",
       "      <td>1.4</td>\n",
       "      <td>0.2</td>\n",
       "      <td>Iris-setosa</td>\n",
       "    </tr>\n",
       "    <tr>\n",
       "      <th>1</th>\n",
       "      <td>4.9</td>\n",
       "      <td>3.0</td>\n",
       "      <td>1.4</td>\n",
       "      <td>0.2</td>\n",
       "      <td>Iris-setosa</td>\n",
       "    </tr>\n",
       "    <tr>\n",
       "      <th>2</th>\n",
       "      <td>4.7</td>\n",
       "      <td>3.2</td>\n",
       "      <td>1.3</td>\n",
       "      <td>0.2</td>\n",
       "      <td>Iris-setosa</td>\n",
       "    </tr>\n",
       "    <tr>\n",
       "      <th>3</th>\n",
       "      <td>4.6</td>\n",
       "      <td>3.1</td>\n",
       "      <td>1.5</td>\n",
       "      <td>0.2</td>\n",
       "      <td>Iris-setosa</td>\n",
       "    </tr>\n",
       "    <tr>\n",
       "      <th>4</th>\n",
       "      <td>5.0</td>\n",
       "      <td>3.6</td>\n",
       "      <td>1.4</td>\n",
       "      <td>0.2</td>\n",
       "      <td>Iris-setosa</td>\n",
       "    </tr>\n",
       "  </tbody>\n",
       "</table>\n",
       "</div>"
      ],
      "text/plain": [
       "   SepalLengthCm  SepalWidthCm  PetalLengthCm  PetalWidthCm      species\n",
       "0            5.1           3.5            1.4           0.2  Iris-setosa\n",
       "1            4.9           3.0            1.4           0.2  Iris-setosa\n",
       "2            4.7           3.2            1.3           0.2  Iris-setosa\n",
       "3            4.6           3.1            1.5           0.2  Iris-setosa\n",
       "4            5.0           3.6            1.4           0.2  Iris-setosa"
      ]
     },
     "execution_count": 11,
     "metadata": {},
     "output_type": "execute_result"
    }
   ],
   "source": [
    "# Outra possibilidade de visualização é com os comandos head() e tail() ou describe().\n",
    "iris.head()"
   ]
  },
  {
   "cell_type": "code",
   "execution_count": 12,
   "metadata": {},
   "outputs": [
    {
     "data": {
      "text/html": [
       "<div>\n",
       "<style scoped>\n",
       "    .dataframe tbody tr th:only-of-type {\n",
       "        vertical-align: middle;\n",
       "    }\n",
       "\n",
       "    .dataframe tbody tr th {\n",
       "        vertical-align: top;\n",
       "    }\n",
       "\n",
       "    .dataframe thead th {\n",
       "        text-align: right;\n",
       "    }\n",
       "</style>\n",
       "<table border=\"1\" class=\"dataframe\">\n",
       "  <thead>\n",
       "    <tr style=\"text-align: right;\">\n",
       "      <th></th>\n",
       "      <th>SepalLengthCm</th>\n",
       "      <th>SepalWidthCm</th>\n",
       "      <th>PetalLengthCm</th>\n",
       "      <th>PetalWidthCm</th>\n",
       "      <th>species</th>\n",
       "    </tr>\n",
       "  </thead>\n",
       "  <tbody>\n",
       "    <tr>\n",
       "      <th>145</th>\n",
       "      <td>6.7</td>\n",
       "      <td>3.0</td>\n",
       "      <td>5.2</td>\n",
       "      <td>2.3</td>\n",
       "      <td>Iris-virginica</td>\n",
       "    </tr>\n",
       "    <tr>\n",
       "      <th>146</th>\n",
       "      <td>6.3</td>\n",
       "      <td>2.5</td>\n",
       "      <td>5.0</td>\n",
       "      <td>1.9</td>\n",
       "      <td>Iris-virginica</td>\n",
       "    </tr>\n",
       "    <tr>\n",
       "      <th>147</th>\n",
       "      <td>6.5</td>\n",
       "      <td>3.0</td>\n",
       "      <td>5.2</td>\n",
       "      <td>2.0</td>\n",
       "      <td>Iris-virginica</td>\n",
       "    </tr>\n",
       "    <tr>\n",
       "      <th>148</th>\n",
       "      <td>6.2</td>\n",
       "      <td>3.4</td>\n",
       "      <td>5.4</td>\n",
       "      <td>2.3</td>\n",
       "      <td>Iris-virginica</td>\n",
       "    </tr>\n",
       "    <tr>\n",
       "      <th>149</th>\n",
       "      <td>5.9</td>\n",
       "      <td>3.0</td>\n",
       "      <td>5.1</td>\n",
       "      <td>1.8</td>\n",
       "      <td>Iris-virginica</td>\n",
       "    </tr>\n",
       "  </tbody>\n",
       "</table>\n",
       "</div>"
      ],
      "text/plain": [
       "     SepalLengthCm  SepalWidthCm  PetalLengthCm  PetalWidthCm         species\n",
       "145            6.7           3.0            5.2           2.3  Iris-virginica\n",
       "146            6.3           2.5            5.0           1.9  Iris-virginica\n",
       "147            6.5           3.0            5.2           2.0  Iris-virginica\n",
       "148            6.2           3.4            5.4           2.3  Iris-virginica\n",
       "149            5.9           3.0            5.1           1.8  Iris-virginica"
      ]
     },
     "execution_count": 12,
     "metadata": {},
     "output_type": "execute_result"
    }
   ],
   "source": [
    "iris.tail()"
   ]
  },
  {
   "cell_type": "code",
   "execution_count": 13,
   "metadata": {},
   "outputs": [
    {
     "data": {
      "text/html": [
       "<div>\n",
       "<style scoped>\n",
       "    .dataframe tbody tr th:only-of-type {\n",
       "        vertical-align: middle;\n",
       "    }\n",
       "\n",
       "    .dataframe tbody tr th {\n",
       "        vertical-align: top;\n",
       "    }\n",
       "\n",
       "    .dataframe thead th {\n",
       "        text-align: right;\n",
       "    }\n",
       "</style>\n",
       "<table border=\"1\" class=\"dataframe\">\n",
       "  <thead>\n",
       "    <tr style=\"text-align: right;\">\n",
       "      <th></th>\n",
       "      <th>SepalLengthCm</th>\n",
       "      <th>SepalWidthCm</th>\n",
       "      <th>PetalLengthCm</th>\n",
       "      <th>PetalWidthCm</th>\n",
       "    </tr>\n",
       "  </thead>\n",
       "  <tbody>\n",
       "    <tr>\n",
       "      <th>count</th>\n",
       "      <td>150.000000</td>\n",
       "      <td>150.000000</td>\n",
       "      <td>150.000000</td>\n",
       "      <td>150.000000</td>\n",
       "    </tr>\n",
       "    <tr>\n",
       "      <th>mean</th>\n",
       "      <td>5.843333</td>\n",
       "      <td>3.054000</td>\n",
       "      <td>3.758667</td>\n",
       "      <td>1.198667</td>\n",
       "    </tr>\n",
       "    <tr>\n",
       "      <th>std</th>\n",
       "      <td>0.828066</td>\n",
       "      <td>0.433594</td>\n",
       "      <td>1.764420</td>\n",
       "      <td>0.763161</td>\n",
       "    </tr>\n",
       "    <tr>\n",
       "      <th>min</th>\n",
       "      <td>4.300000</td>\n",
       "      <td>2.000000</td>\n",
       "      <td>1.000000</td>\n",
       "      <td>0.100000</td>\n",
       "    </tr>\n",
       "    <tr>\n",
       "      <th>25%</th>\n",
       "      <td>5.100000</td>\n",
       "      <td>2.800000</td>\n",
       "      <td>1.600000</td>\n",
       "      <td>0.300000</td>\n",
       "    </tr>\n",
       "    <tr>\n",
       "      <th>50%</th>\n",
       "      <td>5.800000</td>\n",
       "      <td>3.000000</td>\n",
       "      <td>4.350000</td>\n",
       "      <td>1.300000</td>\n",
       "    </tr>\n",
       "    <tr>\n",
       "      <th>75%</th>\n",
       "      <td>6.400000</td>\n",
       "      <td>3.300000</td>\n",
       "      <td>5.100000</td>\n",
       "      <td>1.800000</td>\n",
       "    </tr>\n",
       "    <tr>\n",
       "      <th>max</th>\n",
       "      <td>7.900000</td>\n",
       "      <td>4.400000</td>\n",
       "      <td>6.900000</td>\n",
       "      <td>2.500000</td>\n",
       "    </tr>\n",
       "  </tbody>\n",
       "</table>\n",
       "</div>"
      ],
      "text/plain": [
       "       SepalLengthCm  SepalWidthCm  PetalLengthCm  PetalWidthCm\n",
       "count     150.000000    150.000000     150.000000    150.000000\n",
       "mean        5.843333      3.054000       3.758667      1.198667\n",
       "std         0.828066      0.433594       1.764420      0.763161\n",
       "min         4.300000      2.000000       1.000000      0.100000\n",
       "25%         5.100000      2.800000       1.600000      0.300000\n",
       "50%         5.800000      3.000000       4.350000      1.300000\n",
       "75%         6.400000      3.300000       5.100000      1.800000\n",
       "max         7.900000      4.400000       6.900000      2.500000"
      ]
     },
     "execution_count": 13,
     "metadata": {},
     "output_type": "execute_result"
    }
   ],
   "source": [
    "iris.describe() # species não foi incluído pois contém strings, e não floats."
   ]
  },
  {
   "cell_type": "code",
   "execution_count": 14,
   "metadata": {},
   "outputs": [
    {
     "data": {
      "text/plain": [
       "0         Iris-setosa\n",
       "1         Iris-setosa\n",
       "2         Iris-setosa\n",
       "3         Iris-setosa\n",
       "4         Iris-setosa\n",
       "5         Iris-setosa\n",
       "6         Iris-setosa\n",
       "7         Iris-setosa\n",
       "8         Iris-setosa\n",
       "9         Iris-setosa\n",
       "10        Iris-setosa\n",
       "11        Iris-setosa\n",
       "12        Iris-setosa\n",
       "13        Iris-setosa\n",
       "14        Iris-setosa\n",
       "15        Iris-setosa\n",
       "16        Iris-setosa\n",
       "17        Iris-setosa\n",
       "18        Iris-setosa\n",
       "19        Iris-setosa\n",
       "20        Iris-setosa\n",
       "21        Iris-setosa\n",
       "22        Iris-setosa\n",
       "23        Iris-setosa\n",
       "24        Iris-setosa\n",
       "25        Iris-setosa\n",
       "26        Iris-setosa\n",
       "27        Iris-setosa\n",
       "28        Iris-setosa\n",
       "29        Iris-setosa\n",
       "            ...      \n",
       "120    Iris-virginica\n",
       "121    Iris-virginica\n",
       "122    Iris-virginica\n",
       "123    Iris-virginica\n",
       "124    Iris-virginica\n",
       "125    Iris-virginica\n",
       "126    Iris-virginica\n",
       "127    Iris-virginica\n",
       "128    Iris-virginica\n",
       "129    Iris-virginica\n",
       "130    Iris-virginica\n",
       "131    Iris-virginica\n",
       "132    Iris-virginica\n",
       "133    Iris-virginica\n",
       "134    Iris-virginica\n",
       "135    Iris-virginica\n",
       "136    Iris-virginica\n",
       "137    Iris-virginica\n",
       "138    Iris-virginica\n",
       "139    Iris-virginica\n",
       "140    Iris-virginica\n",
       "141    Iris-virginica\n",
       "142    Iris-virginica\n",
       "143    Iris-virginica\n",
       "144    Iris-virginica\n",
       "145    Iris-virginica\n",
       "146    Iris-virginica\n",
       "147    Iris-virginica\n",
       "148    Iris-virginica\n",
       "149    Iris-virginica\n",
       "Name: species, Length: 150, dtype: object"
      ]
     },
     "execution_count": 14,
     "metadata": {},
     "output_type": "execute_result"
    }
   ],
   "source": [
    "# Podemos selecionar colunas específicas com colchetes e a string que dá nome à coluna.\n",
    "iris['species']"
   ]
  },
  {
   "cell_type": "markdown",
   "metadata": {},
   "source": [
    "Repare a diferença entre um **método**, que é invocado com parênteses, como read_csv( ), e um **atributo** de um objeto, que é invocado com colchetes, como ['species']. 'species' é uma coluna, portanto, um atributo do objeto \"iris\"."
   ]
  },
  {
   "cell_type": "code",
   "execution_count": 9,
   "metadata": {},
   "outputs": [
    {
     "data": {
      "text/plain": [
       "150"
      ]
     },
     "execution_count": 9,
     "metadata": {},
     "output_type": "execute_result"
    }
   ],
   "source": [
    "len(iris['species'])"
   ]
  },
  {
   "cell_type": "code",
   "execution_count": 6,
   "metadata": {},
   "outputs": [
    {
     "data": {
      "text/plain": [
       "10        Iris-setosa\n",
       "11        Iris-setosa\n",
       "12        Iris-setosa\n",
       "13        Iris-setosa\n",
       "14        Iris-setosa\n",
       "15        Iris-setosa\n",
       "16        Iris-setosa\n",
       "17        Iris-setosa\n",
       "18        Iris-setosa\n",
       "19        Iris-setosa\n",
       "20        Iris-setosa\n",
       "21        Iris-setosa\n",
       "22        Iris-setosa\n",
       "23        Iris-setosa\n",
       "24        Iris-setosa\n",
       "25        Iris-setosa\n",
       "26        Iris-setosa\n",
       "27        Iris-setosa\n",
       "28        Iris-setosa\n",
       "29        Iris-setosa\n",
       "30        Iris-setosa\n",
       "31        Iris-setosa\n",
       "32        Iris-setosa\n",
       "33        Iris-setosa\n",
       "34        Iris-setosa\n",
       "35        Iris-setosa\n",
       "36        Iris-setosa\n",
       "37        Iris-setosa\n",
       "38        Iris-setosa\n",
       "39        Iris-setosa\n",
       "40        Iris-setosa\n",
       "41        Iris-setosa\n",
       "42        Iris-setosa\n",
       "43        Iris-setosa\n",
       "44        Iris-setosa\n",
       "45        Iris-setosa\n",
       "46        Iris-setosa\n",
       "47        Iris-setosa\n",
       "48        Iris-setosa\n",
       "49        Iris-setosa\n",
       "50    Iris-versicolor\n",
       "Name: species, dtype: object"
      ]
     },
     "execution_count": 6,
     "metadata": {},
     "output_type": "execute_result"
    }
   ],
   "source": [
    "# ou com iloc[], que permite escolher as linhas:\n",
    "iris['species'].iloc[10:51]"
   ]
  },
  {
   "cell_type": "markdown",
   "metadata": {},
   "source": [
    "Utilizamos o Pandas para importar nosso arquivo .csv em um *dataframe* armazenado na variável `iris`. Além de importar, o Pandas também possui o método `plot()`. Escolhemos nossos eixos bem como o tipo de Plot."
   ]
  },
  {
   "cell_type": "code",
   "execution_count": 11,
   "metadata": {},
   "outputs": [
    {
     "data": {
      "text/plain": [
       "<matplotlib.axes._subplots.AxesSubplot at 0x1155013c8>"
      ]
     },
     "execution_count": 11,
     "metadata": {},
     "output_type": "execute_result"
    },
    {
     "data": {
      "image/png": "[encoded data removed]",
      "text/plain": [
       "<Figure size 432x288 with 1 Axes>"
      ]
     },
     "metadata": {
      "needs_background": "light"
     },
     "output_type": "display_data"
    }
   ],
   "source": [
    "# Vamos tentar um scatter plot simples com o método plot(). Repare nos parâmetros definindo x, y e 'kind'\n",
    "iris.plot(x='PetalLengthCm', y='SepalLengthCm', kind = 'scatter')"
   ]
  },
  {
   "cell_type": "code",
   "execution_count": 13,
   "metadata": {},
   "outputs": [
    {
     "data": {
      "text/plain": [
       "Text(0.5,1,'scatter')"
      ]
     },
     "execution_count": 13,
     "metadata": {},
     "output_type": "execute_result"
    },
    {
     "data": {
      "image/png": "[encoded data removed]",
      "text/plain": [
       "<Figure size 432x288 with 1 Axes>"
      ]
     },
     "metadata": {
      "needs_background": "light"
     },
     "output_type": "display_data"
    }
   ],
   "source": [
    "# Agora um pouco mais sofisticado, com cores.\n",
    "# ax é um objeto da biblioteca Matplotlib, que corresponde a um eixo ou porção de uma figura\n",
    "# Vamos projetar três plots, um para cada espécie, porém todos no mesmo eixo (ax)\n",
    "# Também é possível adicionar labels e um título para o eixo.\n",
    "\n",
    "ax = iris[iris.species=='Iris-setosa'].plot.scatter(x='PetalLengthCm', y='PetalWidthCm', \n",
    "                                                    color='red', label='setosa')\n",
    "iris[iris.species=='Iris-versicolor'].plot.scatter(x='PetalLengthCm', y='PetalWidthCm', \n",
    "                                                color='green', label='versicolor', ax=ax)\n",
    "iris[iris.species=='Iris-virginica'].plot.scatter(x='PetalLengthCm', y='PetalWidthCm', \n",
    "                                                color='blue', label='virginica', ax=ax)\n",
    "ax.set_title(\"scatter\")"
   ]
  },
  {
   "cell_type": "markdown",
   "metadata": {},
   "source": [
    "Esse último snippet foi retirado [deste notebook Kaggle.](https://www.kaggle.com/xuhewen/iris-dataset-visualization-and-machine-learning)\n",
    "\n",
    "Na verdade, o Pandas possui toda uma biblioteca de plotagem (pandas.plotting) que funciona por meio da API `matplotlib.pyplot`. Temos, por exemplo, os métodos `radviz()` e `parallel_coordinates()`, usados para visualizar dados multivariados. Exemplos retirados da [galeria do Pandas.](http://pandas.pydata.org/pandas-docs/version/0.13/visualization.html)"
   ]
  },
  {
   "cell_type": "code",
   "execution_count": null,
   "metadata": {},
   "outputs": [],
   "source": [
    "# Precisamos importar os métodos da biblioteca plotting do Pandas\n",
    "from pandas.plotting import radviz, parallel_coordinates"
   ]
  },
  {
   "cell_type": "code",
   "execution_count": null,
   "metadata": {},
   "outputs": [],
   "source": [
    "# O método requere somente o dataframe e a seleção da coluna com nomes das classes (strings)\n",
    "radviz(iris,'species')"
   ]
  },
  {
   "cell_type": "code",
   "execution_count": null,
   "metadata": {},
   "outputs": [],
   "source": [
    "# Vamos experimentar com o outro método, parallel_coordinates()\n",
    "parallel_coordinates(iris, 'species')\n",
    "\n",
    "# Aparentemente, o radviz() foi melhor que este pois ilustrou a diferença em 'SepalWidth' observada no scatterplot."
   ]
  },
  {
   "cell_type": "markdown",
   "metadata": {},
   "source": [
    "Até agora, vimos como:\n",
    "\n",
    "* Abrir o Jupyter Notebook\n",
    "* Importar as bibliotecas Pandas e Matplotlib.pyplot\n",
    "* Usar o método do Pandas `pd.read_csv()`para importar o .csv como um Dataframe.\n",
    "* Selecionar porções do Dataframe com métodos como `head()` ou `iloc[]`.\n",
    "* Usar o Matplotlib para visualizar plots do Pandas.\n",
    "\n",
    "Conhecendo e usando as bibliotecas que se aprende a linguagem; existem galerias no site do [Pandas](http://pandas.pydata.org/pandas-docs/version/0.13/visualization.html) e [Matplotlib](https://matplotlib.org/users/pyplot_tutorial.html) com diversos exemplos, entretanto é melhor concentrar em um curso de fundamentos de Python antes. Abaixo exemplos da segunda galeria. Repare que com bibliotecas como Pandas e [NumPy](http://www.numpy.org/) (uma dependência do Pandas), é possível criar 'séries' numéricas para exemplos de plots."
   ]
  },
  {
   "cell_type": "code",
   "execution_count": null,
   "metadata": {},
   "outputs": [],
   "source": [
    "plt.plot([1,2,3,4])\n",
    "plt.ylabel('some numbers')\n",
    "plt.show()"
   ]
  },
  {
   "cell_type": "code",
   "execution_count": null,
   "metadata": {},
   "outputs": [],
   "source": [
    "# Vamos importar a biblioteca NumPy como np\n",
    "import numpy as np\n",
    "\n",
    "# Como mencionado anteriormente, podemos usa-la para criar uma série numérica.\n",
    "t = np.arange(0., 5., 0.2)\n",
    "\n",
    "# E plotar essa série de diferentes formas\n",
    "plt.plot(t, t, 'r--', t, t**2, 'bs', t, t**3, 'g^')\n",
    "plt.show()"
   ]
  },
  {
   "cell_type": "code",
   "execution_count": null,
   "metadata": {},
   "outputs": [],
   "source": [
    "# Aqui temos um exemplo mais avançado de como fazer um plot com múltiplas figuras\n",
    "\n",
    "# Essa linha estabelece uma função que gera os valores que serão plotados.\n",
    "def f(t):\n",
    "    return np.exp(-t) * np.cos(2*np.pi*t)\n",
    "\n",
    "# t1 e t2 são séries numéricas que serviram de argumento para a função f(t).\n",
    "t1 = np.arange(0.0, 5.0, 0.1)\n",
    "t2 = np.arange(0.0, 5.0, 0.02)\n",
    "\n",
    "# Queremos UMA figura\n",
    "plt.figure(1)\n",
    "# Com DOIS subplots. Na segunda linha vamos plotar o primeiro subplot\n",
    "plt.subplot(211)\n",
    "plt.plot(t1, f(t1), 'bo', t2, f(t2), 'k')\n",
    "\n",
    "# Plotando o segundo subplot\n",
    "plt.subplot(212)\n",
    "plt.plot(t2, np.cos(2*np.pi*t2), 'r--')\n",
    "\n",
    "# Mostrar a figura\n",
    "plt.show()"
   ]
  },
  {
   "cell_type": "markdown",
   "metadata": {
    "collapsed": true
   },
   "source": [
    "### Conclusão do Módulo 2\n",
    "\n",
    "Enquanto no Módulo 1 vimos as ferramentas essenciais para registrar (editor de texto) e executar (Terminal) linhas de código (em Python), no Módulo 2 aprendemos como gerenciar pacotes e ambientes para podermos tirar o melhor proveito da nossa linguagem. Fizemos uso de três bibliotecas (Jupyter, Pandas e Matplotlib) para importar o conjunto de dados \"Iris\" e visualiza-lo com diferentes métodos."
   ]
  }
 ],
 "metadata": {
  "kernelspec": {
   "display_name": "Python 3",
   "language": "python",
   "name": "python3"
  },
  "language_info": {
   "codemirror_mode": {
    "name": "ipython",
    "version": 3
   },
   "file_extension": ".py",
   "mimetype": "text/x-python",
   "name": "python",
   "nbconvert_exporter": "python",
   "pygments_lexer": "ipython3",
   "version": "3.7.0"
  }
 },
 "nbformat": 4,
 "nbformat_minor": 2
}
